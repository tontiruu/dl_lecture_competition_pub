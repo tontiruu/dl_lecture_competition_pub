{
 "cells": [
  {
   "cell_type": "code",
   "execution_count": 24,
   "metadata": {},
   "outputs": [],
   "source": [
    "import cv2\n",
    "import numpy as np\n",
    "\n",
    "img = cv2.imread(\"000004.png\")\n",
    "\n",
    "\n",
    "def get_mode_color(img: np.ndarray) -> list[int]:\n",
    "    color_counter: dict[str:int] = {}\n",
    "    color_str_2_list: dict[str : list[int]] = {}\n",
    "    for row in img:\n",
    "        for pixel_color in row:\n",
    "            str_pixel_color = str(pixel_color)\n",
    "            if color_counter.get(str_pixel_color) is None:\n",
    "                color_counter[str_pixel_color] = 1\n",
    "                color_str_2_list[str_pixel_color] = pixel_color\n",
    "            else:\n",
    "                color_counter[str_pixel_color] += 1\n",
    "\n",
    "    max_counter = 0\n",
    "    mode_color = [0, 0, 0]\n",
    "\n",
    "    for str_color, counter in color_counter.items():\n",
    "        if max_counter < counter:\n",
    "            mode_color = color_str_2_list[str_color]\n",
    "            max_counter = counter\n",
    "    return mode_color\n",
    "\n",
    "\n",
    "def not_mode_fill_black(img: np.ndarray, mode_color) -> np.ndarray:\n",
    "    new_img = []\n",
    "    for row in img:\n",
    "        new_row = list(map(lambda x: x if np.all(x == mode_color) else [0, 0, 0], row))\n",
    "        new_img.append(new_row)\n",
    "    return np.array(new_img)"
   ]
  },
  {
   "cell_type": "code",
   "execution_count": 21,
   "metadata": {},
   "outputs": [],
   "source": [
    "mode_color = get_mode_color(img=img)"
   ]
  },
  {
   "cell_type": "code",
   "execution_count": 22,
   "metadata": {},
   "outputs": [],
   "source": [
    "new_img = not_mode_fill_black(img, mode_color)"
   ]
  },
  {
   "cell_type": "code",
   "execution_count": 18,
   "metadata": {},
   "outputs": [
    {
     "data": {
      "text/plain": [
       "array([[[  0, 128, 128],\n",
       "        [  0, 128, 128],\n",
       "        [  0, 128, 128],\n",
       "        ...,\n",
       "        [  0, 128, 128],\n",
       "        [  0, 128, 128],\n",
       "        [  0, 128, 128]],\n",
       "\n",
       "       [[  0, 128, 128],\n",
       "        [  0, 128, 128],\n",
       "        [  0, 128, 128],\n",
       "        ...,\n",
       "        [  0, 128, 128],\n",
       "        [  0, 128, 128],\n",
       "        [  0, 128, 128]],\n",
       "\n",
       "       [[  0, 128, 128],\n",
       "        [  0, 128, 128],\n",
       "        [  0, 128, 128],\n",
       "        ...,\n",
       "        [  0, 128, 128],\n",
       "        [  0, 128, 128],\n",
       "        [  0, 128, 128]],\n",
       "\n",
       "       ...,\n",
       "\n",
       "       [[  0, 128, 128],\n",
       "        [  0, 128, 128],\n",
       "        [  0, 128, 128],\n",
       "        ...,\n",
       "        [  0, 128, 128],\n",
       "        [  0, 128, 128],\n",
       "        [  0, 128, 128]],\n",
       "\n",
       "       [[  0, 128, 128],\n",
       "        [  0, 128, 128],\n",
       "        [  0, 128, 128],\n",
       "        ...,\n",
       "        [  0, 128, 128],\n",
       "        [  0, 128, 128],\n",
       "        [  0, 128, 128]],\n",
       "\n",
       "       [[  0, 128, 128],\n",
       "        [  0, 128, 128],\n",
       "        [  0, 128, 128],\n",
       "        ...,\n",
       "        [  0, 128, 128],\n",
       "        [  0, 128, 128],\n",
       "        [  0, 128, 128]]])"
      ]
     },
     "execution_count": 18,
     "metadata": {},
     "output_type": "execute_result"
    }
   ],
   "source": [
    "new_img"
   ]
  },
  {
   "cell_type": "code",
   "execution_count": 23,
   "metadata": {},
   "outputs": [],
   "source": [
    "cv2.imshow(\"Image\", new_img.astype(np.uint8))\n",
    "cv2.waitKey(0)\n",
    "cv2.destroyAllWindows()"
   ]
  },
  {
   "cell_type": "code",
   "execution_count": null,
   "metadata": {},
   "outputs": [],
   "source": []
  }
 ],
 "metadata": {
  "kernelspec": {
   "display_name": "4-2-CZR2jCz8-py3.11",
   "language": "python",
   "name": "python3"
  },
  "language_info": {
   "codemirror_mode": {
    "name": "ipython",
    "version": 3
   },
   "file_extension": ".py",
   "mimetype": "text/x-python",
   "name": "python",
   "nbconvert_exporter": "python",
   "pygments_lexer": "ipython3",
   "version": "3.11.7"
  }
 },
 "nbformat": 4,
 "nbformat_minor": 2
}
